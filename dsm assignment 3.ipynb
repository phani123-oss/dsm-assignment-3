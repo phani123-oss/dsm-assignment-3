{
 "cells": [
  {
   "cell_type": "code",
   "execution_count": 1,
   "id": "48eeb27e-c17d-460c-a65d-7b89e19b7842",
   "metadata": {},
   "outputs": [],
   "source": [
    "#Q1. Explain Class and Object with respect to Object-Oriented Programming. Give a suitable example."
   ]
  },
  {
   "cell_type": "raw",
   "id": "22e54d73-f933-4daf-82d8-f07fd73b3018",
   "metadata": {},
   "source": [
    "class : class is a user defined blueprint or protype from which objects are created.\n",
    "object: An object is an instance of class ,that can be used to manipulate the data."
   ]
  },
  {
   "cell_type": "code",
   "execution_count": 8,
   "id": "5bffc6b7-5403-45cf-9137-47d94e72b8b0",
   "metadata": {},
   "outputs": [],
   "source": [
    "class school:\n",
    "    def student_name(self):\n",
    "        return \"it gives name of student\"\n",
    "    \n",
    "#object \n",
    "school1 = school()"
   ]
  },
  {
   "cell_type": "code",
   "execution_count": 9,
   "id": "4edac3c0-de4d-4cc9-ac1b-0b9bc4370104",
   "metadata": {},
   "outputs": [
    {
     "data": {
      "text/plain": [
       "'it gives name of student'"
      ]
     },
     "execution_count": 9,
     "metadata": {},
     "output_type": "execute_result"
    }
   ],
   "source": [
    "school1.student_name()"
   ]
  },
  {
   "cell_type": "raw",
   "id": "68a7c873-6524-4869-a32e-cc3e3a9fb392",
   "metadata": {},
   "source": [
    "Q2. Name the four pillars of OOPs."
   ]
  },
  {
   "cell_type": "raw",
   "id": "3808bed3-517e-461e-8518-26f99f142839",
   "metadata": {},
   "source": [
    "The four pillars of oops in python are:\n",
    "    1.Encapsulation : Encapsulation is a concept on oops,it hide the internal details of an object.these are 3 types\n",
    "    public: these variables can be acceses directly from anywhere of the program that is inside and outside the clss\n",
    "    private: these variables can be accessed directly outside the class, it is encountered by double under score .\n",
    "    protected: protected variables cannot be accesed directly.these variables are encountered by single underscore\n",
    "    2. Inheritance : it is the mechanism in which one class inherits properties and behaviours from another class.\n",
    "    3. Polymorphism:\n",
    "    4.Abstraction:"
   ]
  },
  {
   "cell_type": "code",
   "execution_count": 11,
   "id": "8d724e6c-d18e-45d2-bc21-d792d226ebfd",
   "metadata": {},
   "outputs": [],
   "source": [
    "'''Q3. Explain why the __init__() function is used. Give a suitable example.\n",
    "\n",
    "In oops purpose of constructor is used to assign values to the data members within the class,\n",
    "when an object is created . the function __init__ is called a constructor , it is emcountered between two underscores.\n",
    "and it is called dunder function.'''\n",
    "\n",
    "class person:\n",
    "    def __init__(self,name,age):\n",
    "        self.name = name\n",
    "        self.age = age\n",
    "        \n",
    "    def access(self):\n",
    "        print(\"my name is : \",self.name)\n",
    "        print(\"and the age is: \",self.age)"
   ]
  },
  {
   "cell_type": "code",
   "execution_count": 13,
   "id": "d4744d82-e011-4bf6-89a8-f68cf24753bf",
   "metadata": {},
   "outputs": [
    {
     "name": "stdout",
     "output_type": "stream",
     "text": [
      "my name is :  phani\n",
      "and the age is:  26\n"
     ]
    }
   ],
   "source": [
    "ex = person('phani',26)\n",
    "ex.access()"
   ]
  },
  {
   "cell_type": "code",
   "execution_count": 14,
   "id": "9cd980e5-cc37-4111-a6fd-882b944dd2df",
   "metadata": {},
   "outputs": [
    {
     "data": {
      "text/plain": [
       "'Q4. Why self is used in OOPs?\\nThe “self” keyword represents the instance of the class. By using the “self” keyword,\\nwe can access the attributes and methods of the class. It is useful in method definitions and in variable \\ninitialization. '"
      ]
     },
     "execution_count": 14,
     "metadata": {},
     "output_type": "execute_result"
    }
   ],
   "source": [
    "'''Q4. Why self is used in OOPs?\n",
    "The “self” keyword represents the instance of the class. By using the “self” keyword,\n",
    "we can access the attributes and methods of the class. It is useful in method definitions and in variable \n",
    "initialization. '''"
   ]
  },
  {
   "cell_type": "code",
   "execution_count": null,
   "id": "43416150-c3ed-4c70-8563-b2d136f7ea22",
   "metadata": {},
   "outputs": [],
   "source": [
    "Q5. What is inheritance? Give an example for each type of inheritance."
   ]
  }
 ],
 "metadata": {
  "kernelspec": {
   "display_name": "Python 3 (ipykernel)",
   "language": "python",
   "name": "python3"
  },
  "language_info": {
   "codemirror_mode": {
    "name": "ipython",
    "version": 3
   },
   "file_extension": ".py",
   "mimetype": "text/x-python",
   "name": "python",
   "nbconvert_exporter": "python",
   "pygments_lexer": "ipython3",
   "version": "3.10.8"
  }
 },
 "nbformat": 4,
 "nbformat_minor": 5
}
